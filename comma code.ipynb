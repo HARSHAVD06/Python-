{
 "cells": [
  {
   "cell_type": "code",
   "execution_count": 1,
   "id": "a2a3aeb7-111f-49c9-b89f-aa4cc14f3443",
   "metadata": {},
   "outputs": [
    {
     "name": "stdout",
     "output_type": "stream",
     "text": [
      "Name:Harsha vd\n",
      "USN: 1AY24AI042\n",
      "Section: M\n",
      "apples, bananas, tofu, and cats\n"
     ]
    }
   ],
   "source": [
    "print(\"Name:Harsha vd\")\n",
    "print(\"USN: 1AY24AI042\")\n",
    "print(\"Section: M\")\n",
    "items = ['apples', 'bananas', 'tofu', 'cats']\n",
    "result = ''\n",
    "\n",
    "for i in range(len(items)):\n",
    "    if i == len(items) - 1 and len(items) > 1:\n",
    "        result += 'and ' + items[i]\n",
    "    elif i == len(items) - 1:\n",
    "        result += items[i]\n",
    "    else:\n",
    "        result += items[i] + ', '\n",
    "\n",
    "print(result)"
   ]
  },
  {
   "cell_type": "code",
   "execution_count": null,
   "id": "01e17d0c-fbbe-445d-9f99-6145dade908d",
   "metadata": {},
   "outputs": [],
   "source": []
  }
 ],
 "metadata": {
  "kernelspec": {
   "display_name": "Python [conda env:base] *",
   "language": "python",
   "name": "conda-base-py"
  },
  "language_info": {
   "codemirror_mode": {
    "name": "ipython",
    "version": 3
   },
   "file_extension": ".py",
   "mimetype": "text/x-python",
   "name": "python",
   "nbconvert_exporter": "python",
   "pygments_lexer": "ipython3",
   "version": "3.12.7"
  }
 },
 "nbformat": 4,
 "nbformat_minor": 5
}
