{
 "cells": [
  {
   "cell_type": "code",
   "execution_count": 1,
   "id": "c6e77cec-2a19-4e44-b900-1327bc8626cb",
   "metadata": {},
   "outputs": [
    {
     "name": "stdout",
     "output_type": "stream",
     "text": [
      "Name:Harsha vd\n",
      "USN: 1AY24AI042\n",
      "Section: M\n"
     ]
    },
    {
     "name": "stdin",
     "output_type": "stream",
     "text": [
      "Enter the number of coin flips:  2\n"
     ]
    },
    {
     "name": "stdout",
     "output_type": "stream",
     "text": [
      "Results: ['T', 'T']\n",
      "Longest streak: 2\n"
     ]
    }
   ],
   "source": [
    "print(\"Name:Harsha vd\")\n",
    "print(\"USN: 1AY24AI042\")\n",
    "print(\"Section: M\")\n",
    "import random\n",
    "flips = int(input(\"Enter the number of coin flips: \"))\n",
    "results = []\n",
    "streak = 0\n",
    "max_streak = 0\n",
    "for _ in range(flips):\n",
    "    flip = random.choice(['H', 'T'])\n",
    "    results.append(flip)\n",
    "    if len(results) > 1 and results[-1] == results[-2]:\n",
    "        streak += 1\n",
    "    else:\n",
    "        streak = 1\n",
    "    if streak > max_streak:\n",
    "        max_streak = streak\n",
    "print(\"Results:\", results)\n",
    "print(\"Longest streak:\", max_streak)"
   ]
  },
  {
   "cell_type": "code",
   "execution_count": null,
   "id": "7e2f6328-1c54-4051-8804-d0b16ded1c12",
   "metadata": {},
   "outputs": [],
   "source": []
  }
 ],
 "metadata": {
  "kernelspec": {
   "display_name": "Python [conda env:base] *",
   "language": "python",
   "name": "conda-base-py"
  },
  "language_info": {
   "codemirror_mode": {
    "name": "ipython",
    "version": 3
   },
   "file_extension": ".py",
   "mimetype": "text/x-python",
   "name": "python",
   "nbconvert_exporter": "python",
   "pygments_lexer": "ipython3",
   "version": "3.12.7"
  }
 },
 "nbformat": 4,
 "nbformat_minor": 5
}
