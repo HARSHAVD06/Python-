{
 "cells": [
  {
   "cell_type": "code",
   "execution_count": 1,
   "id": "b1c260af-711a-4333-9c5e-e6b9591a8f8c",
   "metadata": {},
   "outputs": [
    {
     "name": "stdout",
     "output_type": "stream",
     "text": [
      "Name:Harsha vd \n",
      "USN: 1AY24AI042\n",
      "Section: M\n"
     ]
    },
    {
     "name": "stdin",
     "output_type": "stream",
     "text": [
      "Enter the size of the grid (for example 6 for 6X6:  6\n"
     ]
    },
    {
     "name": "stdout",
     "output_type": "stream",
     "text": [
      "* * * * * * \n",
      "* * * * * * \n",
      "* * * * * * \n",
      "* * * * * * \n",
      "* * * * * * \n",
      "* * * * * * \n"
     ]
    }
   ],
   "source": [
    "print(\"Name:Harsha vd \")\n",
    "print(\"USN: 1AY24AI042\")\n",
    "print(\"Section: M\")\n",
    "grid_size = int(input(\"Enter the size of the grid (for example 6 for 6X6: \"))\n",
    "for i in range(grid_size):\n",
    "    for j in range(grid_size):\n",
    "        print(\"*\", end=\" \")\n",
    "    print()"
   ]
  },
  {
   "cell_type": "code",
   "execution_count": null,
   "id": "199571d4-78c6-42d8-96ea-f5c966585e46",
   "metadata": {},
   "outputs": [],
   "source": []
  }
 ],
 "metadata": {
  "kernelspec": {
   "display_name": "Python [conda env:base] *",
   "language": "python",
   "name": "conda-base-py"
  },
  "language_info": {
   "codemirror_mode": {
    "name": "ipython",
    "version": 3
   },
   "file_extension": ".py",
   "mimetype": "text/x-python",
   "name": "python",
   "nbconvert_exporter": "python",
   "pygments_lexer": "ipython3",
   "version": "3.12.7"
  }
 },
 "nbformat": 4,
 "nbformat_minor": 5
}
