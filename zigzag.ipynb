{
 "cells": [
  {
   "cell_type": "code",
   "execution_count": 2,
   "id": "90f3d1a4-f5b3-4a7a-953b-7715ec5d8682",
   "metadata": {},
   "outputs": [
    {
     "name": "stdout",
     "output_type": "stream",
     "text": [
      "Name: Harsha vd \n",
      "USN: 1AY24AI042\n",
      "Section: M\n",
      "*   *   * \n",
      "  *   *   \n",
      "*   *   * \n",
      "  *   *   \n",
      "*   *   * \n"
     ]
    }
   ],
   "source": [
    "print(\"Name: Harsha vd \")\n",
    "print(\"USN: 1AY24AI042\")\n",
    "print(\"Section: M\")\n",
    "rows = 5\n",
    "for i in range(rows):\n",
    "    for j in range(rows):\n",
    "        if (i + j) % 2 == 0:\n",
    "            print(\"*\", end=\" \")\n",
    "        else:\n",
    "            print(\" \", end=\" \")\n",
    "    print()"
   ]
  },
  {
   "cell_type": "code",
   "execution_count": null,
   "id": "d31740c4-5cf0-406c-80cb-a6355e729c6c",
   "metadata": {},
   "outputs": [],
   "source": []
  }
 ],
 "metadata": {
  "kernelspec": {
   "display_name": "Python [conda env:base] *",
   "language": "python",
   "name": "conda-base-py"
  },
  "language_info": {
   "codemirror_mode": {
    "name": "ipython",
    "version": 3
   },
   "file_extension": ".py",
   "mimetype": "text/x-python",
   "name": "python",
   "nbconvert_exporter": "python",
   "pygments_lexer": "ipython3",
   "version": "3.12.7"
  }
 },
 "nbformat": 4,
 "nbformat_minor": 5
}
