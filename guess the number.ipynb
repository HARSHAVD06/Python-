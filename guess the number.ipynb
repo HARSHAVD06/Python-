{
 "cells": [
  {
   "cell_type": "code",
   "execution_count": null,
   "id": "da1bd7d2-1e51-4c52-9343-823c53a9126a",
   "metadata": {},
   "outputs": [
    {
     "name": "stdout",
     "output_type": "stream",
     "text": [
      "Name: Harsha vd\n",
      "USN: 1AY24AI042\n",
      "Section: M\n",
      "Welcome to the Guess the Number Game!\n",
      "I have selected a number between 1 and 100. Can you guess it?\n"
     ]
    },
    {
     "name": "stdin",
     "output_type": "stream",
     "text": [
      "Enter your guess:  22\n"
     ]
    },
    {
     "name": "stdout",
     "output_type": "stream",
     "text": [
      "Too low! Try again.\n"
     ]
    }
   ],
   "source": [
    "print(\"Name: Harsha vd\")\n",
    "print(\"USN: 1AY24AI042\")\n",
    "print(\"Section: M\")\n",
    "import random\n",
    "\n",
    "number_to_guess = random.randint(1, 100)\n",
    "attempts = 0\n",
    "guess = 0\n",
    "\n",
    "print(\"Welcome to the Guess the Number Game!\")\n",
    "print(\"I have selected a number between 1 and 100. Can you guess it?\")\n",
    "\n",
    "while guess != number_to_guess:\n",
    "    guess = int(input(\"Enter your guess: \"))\n",
    "    attempts += 1\n",
    "    if guess < number_to_guess:\n",
    "        print(\"Too low! Try again.\")\n",
    "    elif guess > number_to_guess:\n",
    "        print(\"Too high! Try again.\")\n",
    "    else:\n",
    "        print(f\"Congratulations! You've guessed the number {number_to_guess} in {attempts} attempts.\")"
   ]
  },
  {
   "cell_type": "code",
   "execution_count": null,
   "id": "43bad8d4-91fa-4091-82e9-0b3ad8c042bc",
   "metadata": {},
   "outputs": [],
   "source": []
  }
 ],
 "metadata": {
  "kernelspec": {
   "display_name": "Python [conda env:base] *",
   "language": "python",
   "name": "conda-base-py"
  },
  "language_info": {
   "codemirror_mode": {
    "name": "ipython",
    "version": 3
   },
   "file_extension": ".py",
   "mimetype": "text/x-python",
   "name": "python",
   "nbconvert_exporter": "python",
   "pygments_lexer": "ipython3",
   "version": "3.12.7"
  }
 },
 "nbformat": 4,
 "nbformat_minor": 5
}
