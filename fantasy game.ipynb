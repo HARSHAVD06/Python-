{
 "cells": [
  {
   "cell_type": "code",
   "execution_count": null,
   "id": "69b620b5-4ab2-49f9-aee0-1e8d985fff7e",
   "metadata": {},
   "outputs": [
    {
     "name": "stdout",
     "output_type": "stream",
     "text": [
      "Name:Harsha vd \n",
      "USN: 1AY24AI042\n",
      "Section: M\n"
     ]
    },
    {
     "name": "stdin",
     "output_type": "stream",
     "text": [
      "Would you like to 'add', 'remove', or 'view' items? (type 'exit' to quit):  add\n",
      "Enter the item you want to add:  kitkat\n",
      "Enter the quantity:  2\n"
     ]
    },
    {
     "name": "stdout",
     "output_type": "stream",
     "text": [
      "2 kitkat(s) added to your inventory.\n"
     ]
    }
   ],
   "source": [
    "print(\"Name:Harsha vd \")\n",
    "print(\"USN: 1AY24AI042\")\n",
    "print(\"Section: M\")\n",
    "inventory = {}\n",
    "while True:\n",
    "    action = input(\"Would you like to 'add', 'remove', or 'view' items? (type 'exit' to quit): \").lower()\n",
    "    if action == 'add':\n",
    "        item = input(\"Enter the item you want to add: \")\n",
    "        quantity = int(input(\"Enter the quantity: \"))\n",
    "        if item in inventory:\n",
    "            inventory[item] += quantity\n",
    "        else:\n",
    "            inventory[item] = quantity\n",
    "        print(f\"{quantity} {item}(s) added to your inventory.\")\n",
    "    elif action == 'remove':\n",
    "        item = input(\"Enter the item you want to remove: \")\n",
    "        if item in inventory:\n",
    "            quantity = int(input(\"Enter the quantity: \"))\n",
    "            if quantity >= inventory[item]:\n",
    "                del inventory[item]\n",
    "                print(f\"{item} removed from your inventory.\")\n",
    "            else:\n",
    "                inventory[item] -= quantity\n",
    "                print(f\"{quantity} {item}(s) removed from your inventory.\")\n",
    "        else:\n",
    "            print(f\"{item} is not in your inventory.\")\n",
    "    elif action == 'view':\n",
    "        if inventory:\n",
    "            print(\"Your inventory:\")\n",
    "            for item, quantity in inventory.items():\n",
    "                print(f\"{item}: {quantity}\")\n",
    "        else:\n",
    "            print(\"Your inventory is empty.\")\n",
    "    elif action == 'exit':\n",
    "        break\n",
    "    else:\n",
    "        print(\"Invalid action. Please try again.\")"
   ]
  },
  {
   "cell_type": "code",
   "execution_count": null,
   "id": "8bd7d75f-6029-4f92-91d8-1eb6821b97cb",
   "metadata": {},
   "outputs": [],
   "source": []
  }
 ],
 "metadata": {
  "kernelspec": {
   "display_name": "Python [conda env:base] *",
   "language": "python",
   "name": "conda-base-py"
  },
  "language_info": {
   "codemirror_mode": {
    "name": "ipython",
    "version": 3
   },
   "file_extension": ".py",
   "mimetype": "text/x-python",
   "name": "python",
   "nbconvert_exporter": "python",
   "pygments_lexer": "ipython3",
   "version": "3.12.7"
  }
 },
 "nbformat": 4,
 "nbformat_minor": 5
}
